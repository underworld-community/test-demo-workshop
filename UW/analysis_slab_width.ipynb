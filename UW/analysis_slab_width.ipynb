{
 "cells": [
  {
   "cell_type": "code",
   "execution_count": 1,
   "metadata": {},
   "outputs": [],
   "source": [
    "#\n",
    "# Analysis script for SlabDetachment model\n",
    "#\n",
    "# The user MUST enter a valid outputPath variable.\n",
    "# The script assumes files width_swarm.* and buildMount.txt exist\n",
    "#\n",
    "\n",
    "from mpi4py import MPI\n",
    "import numpy as np\n",
    "import h5py\n",
    "import glob\n",
    "\n",
    "# replace outputPath here\n",
    "outputPath = './model_b/'"
   ]
  },
  {
   "cell_type": "code",
   "execution_count": 2,
   "metadata": {},
   "outputs": [],
   "source": [
    "files = []\n",
    "for fname in glob.glob(outputPath+'width_swarm.*'):\n",
    "    files.append(fname)\n",
    "files.sort()"
   ]
  },
  {
   "cell_type": "code",
   "execution_count": 3,
   "metadata": {},
   "outputs": [],
   "source": [
    "def readSwarmFile( filename ):\n",
    "    try:\n",
    "        h5File = h5py.File(filename,mode='r')\n",
    "    except:\n",
    "        print(\"Can't find {}\".format(filename))\n",
    "        raise\n",
    "\n",
    "    # grab a copy of the data\n",
    "    np_data = h5File['data'][:]\n",
    "\n",
    "    h5File.close()\n",
    "    \n",
    "    # parse, by sorting and \n",
    "    \n",
    "    # sort the order: y_axis quickest, then x_axis\n",
    "    ind = np.lexsort((np_data[:,1],np_data[:,0]))\n",
    "    new = np_data[ind]\n",
    "\n",
    "    # analysis only takes one of the columns of particles\n",
    "    # and measures their distance from the center of the slab\n",
    "    # this assumes symmetric deformation\n",
    "    center   = 500 # assumes particle coords in kilometers\n",
    "    bottom   = 660 # assume model bottom in kilometers\n",
    "    index    = 0\n",
    "    minWidth = 1e8 # big number\n",
    "    \n",
    "    for ii in range(int(new.shape[0]/2)):\n",
    "        width = abs(new[ii][0] - 500) \n",
    "        if width < minWidth:\n",
    "            minWidth = width\n",
    "            index = ii\n",
    "\n",
    "    \n",
    "    return minWidth, (bottom-new[index][1])/bottom"
   ]
  },
  {
   "cell_type": "code",
   "execution_count": 4,
   "metadata": {},
   "outputs": [],
   "source": [
    "width = [1.]\n",
    "depth = [1.]\n",
    "for f in files:\n",
    "    (w, d) = readSwarmFile(f)\n",
    "    width.append(w/40.)\n",
    "    depth.append(d)"
   ]
  },
  {
   "cell_type": "code",
   "execution_count": 5,
   "metadata": {},
   "outputs": [],
   "source": [
    "# parse the outputfile 'buildMount.txt', 3rd column is model_time\n",
    "info = open(outputPath+\"buildMount.txt\", \"r\")\n",
    "\n",
    "t_c = 22.56e6\n",
    "model_time = [0.]\n",
    "hmm = info.readline() # burn the header row\n",
    "\n",
    "for line in info:\n",
    "    time = line.split(', ')[2]\n",
    "    time = time.split(' ')[0]\n",
    "    model_time.append(float(time)/t_c)\n",
    "\n",
    "info.close()"
   ]
  },
  {
   "cell_type": "code",
   "execution_count": 6,
   "metadata": {},
   "outputs": [],
   "source": [
    "raijinimport matplotlib.pyplot as plt"
   ]
  },
  {
   "cell_type": "code",
   "execution_count": 7,
   "metadata": {},
   "outputs": [
    {
     "data": {
      "image/png": "[encoded data removed]",
      "text/plain": [
       "<Figure size 432x288 with 1 Axes>"
      ]
     },
     "metadata": {
      "needs_background": "light"
     },
     "output_type": "display_data"
    }
   ],
   "source": [
    "plt.ylim(0.,1.)\n",
    "plt.xlim(0.,1.)\n",
    "plt.title(\"Dimensionless slab width in dimensionless time\")\n",
    "plt.xlabel(\"time    (1.0 = 22.56 Myrs)\")\n",
    "plt.plot(model_time, width, label='min. width' )\n",
    "plt.plot(model_time, depth, label='coresponding depth' )\n",
    "plt.legend()\n",
    "plt.grid(True)"
   ]
  }
 ],
 "metadata": {
  "kernelspec": {
   "display_name": "Python 3",
   "language": "python",
   "name": "python3"
  },
  "language_info": {
   "codemirror_mode": {
    "name": "ipython",
    "version": 3
   },
   "file_extension": ".py",
   "mimetype": "text/x-python",
   "name": "python",
   "nbconvert_exporter": "python",
   "pygments_lexer": "ipython3",
   "version": "3.7.3"
  }
 },
 "nbformat": 4,
 "nbformat_minor": 2
}
